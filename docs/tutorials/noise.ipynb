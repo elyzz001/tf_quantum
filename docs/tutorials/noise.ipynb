{
  "cells": [
    {
      "cell_type": "markdown",
      "metadata": {
        "id": "view-in-github",
        "colab_type": "text"
      },
      "source": [
        "<a href=\"https://colab.research.google.com/github/elyzz001/tf_quantum/blob/master/docs/tutorials/noise.ipynb\" target=\"_parent\"><img src=\"https://colab.research.google.com/assets/colab-badge.svg\" alt=\"Open In Colab\"/></a>"
      ]
    },
    {
      "cell_type": "markdown",
      "metadata": {
        "id": "xLOXFOT5Q40E"
      },
      "source": [
        "##### Copyright 2020 The TensorFlow Authors."
      ]
    },
    {
      "cell_type": "code",
      "execution_count": null,
      "metadata": {
        "cellView": "form",
        "id": "iiQkM5ZgQ8r2"
      },
      "outputs": [],
      "source": [
        "#@title Licensed under the Apache License, Version 2.0 (the \"License\");\n",
        "# you may not use this file except in compliance with the License.\n",
        "# You may obtain a copy of the License at\n",
        "#\n",
        "# https://www.apache.org/licenses/LICENSE-2.0\n",
        "#\n",
        "# Unless required by applicable law or agreed to in writing, software\n",
        "# distributed under the License is distributed on an \"AS IS\" BASIS,\n",
        "# WITHOUT WARRANTIES OR CONDITIONS OF ANY KIND, either express or implied.\n",
        "# See the License for the specific language governing permissions and\n",
        "# limitations under the License."
      ]
    },
    {
      "cell_type": "markdown",
      "metadata": {
        "id": "UndbWF_UpN-X"
      },
      "source": [
        "# Noise"
      ]
    },
    {
      "cell_type": "markdown",
      "metadata": {
        "id": "i9Jcnb8bQQyd"
      },
      "source": [
        "<table class=\"tfo-notebook-buttons\" align=\"left\">\n",
        "  <td>\n",
        "    <a target=\"_blank\" href=\"https://www.tensorflow.org/quantum/tutorials/noise\"><img src=\"https://www.tensorflow.org/images/tf_logo_32px.png\" />View on TensorFlow.org</a>\n",
        "  </td>\n",
        "  <td>\n",
        "    <a target=\"_blank\" href=\"https://colab.research.google.com/github/tensorflow/quantum/blob/master/docs/tutorials/noise.ipynb\"><img src=\"https://www.tensorflow.org/images/colab_logo_32px.png\" />Run in Google Colab</a>\n",
        "  </td>\n",
        "  <td>\n",
        "    <a target=\"_blank\" href=\"https://github.com/tensorflow/quantum/blob/master/docs/tutorials/noise.ipynb\"><img src=\"https://www.tensorflow.org/images/GitHub-Mark-32px.png\" />View source on GitHub</a>\n",
        "  </td>\n",
        "  <td>\n",
        "    <a href=\"https://storage.googleapis.com/tensorflow_docs/quantum/docs/tutorials/noise.ipynb\"><img src=\"https://www.tensorflow.org/images/download_logo_32px.png\" />Download notebook</a>\n",
        "  </td>\n",
        "</table>"
      ]
    },
    {
      "cell_type": "markdown",
      "metadata": {
        "id": "fHHaKIG06Iv_"
      },
      "source": [
        "Noise is present in modern day quantum computers. Qubits are susceptible to interference from the surrounding environment, imperfect fabrication, TLS and sometimes even [gamma rays](https://arxiv.org/abs/2104.05219). Until large scale error correction is reached, the algorithms of today must be able to remain functional in the presence of noise. This makes testing algorithms under noise an important step for validating quantum algorithms / models will function on the quantum computers of today.\n",
        "\n",
        "In this tutorial you will explore the basics of noisy circuit simulation in TFQ via the high level `tfq.layers` API.\n",
        "\n",
        "## Setup"
      ]
    },
    {
      "cell_type": "code",
      "execution_count": 3,
      "metadata": {
        "id": "J2CRbYRqrLdt",
        "collapsed": true,
        "outputId": "dfcf9fa5-9f7c-48f6-e9ea-42503e751965",
        "colab": {
          "base_uri": "https://localhost:8080/"
        }
      },
      "outputs": [
        {
          "output_type": "stream",
          "name": "stdout",
          "text": [
            "Collecting tensorflow-quantum\n",
            "  Downloading tensorflow_quantum-0.7.3-cp310-cp310-manylinux_2_17_x86_64.manylinux2014_x86_64.whl (12.8 MB)\n",
            "\u001b[2K     \u001b[90m━━━━━━━━━━━━━━━━━━━━━━━━━━━━━━━━━━━━━━━━\u001b[0m \u001b[32m12.8/12.8 MB\u001b[0m \u001b[31m27.4 MB/s\u001b[0m eta \u001b[36m0:00:00\u001b[0m\n",
            "\u001b[?25hCollecting cirq-core==1.3.0 (from tensorflow-quantum)\n",
            "  Downloading cirq_core-1.3.0-py3-none-any.whl (1.8 MB)\n",
            "\u001b[2K     \u001b[90m━━━━━━━━━━━━━━━━━━━━━━━━━━━━━━━━━━━━━━━━\u001b[0m \u001b[32m1.8/1.8 MB\u001b[0m \u001b[31m28.7 MB/s\u001b[0m eta \u001b[36m0:00:00\u001b[0m\n",
            "\u001b[?25hCollecting cirq-google==1.3.0 (from tensorflow-quantum)\n",
            "  Downloading cirq_google-1.3.0-py3-none-any.whl (598 kB)\n",
            "\u001b[2K     \u001b[90m━━━━━━━━━━━━━━━━━━━━━━━━━━━━━━━━━━━━━━━━\u001b[0m \u001b[32m598.8/598.8 kB\u001b[0m \u001b[31m40.5 MB/s\u001b[0m eta \u001b[36m0:00:00\u001b[0m\n",
            "\u001b[?25hRequirement already satisfied: sympy==1.12 in /usr/local/lib/python3.10/dist-packages (from tensorflow-quantum) (1.12)\n",
            "Collecting duet~=0.2.8 (from cirq-core==1.3.0->tensorflow-quantum)\n",
            "  Downloading duet-0.2.9-py3-none-any.whl (29 kB)\n",
            "Requirement already satisfied: matplotlib~=3.0 in /usr/local/lib/python3.10/dist-packages (from cirq-core==1.3.0->tensorflow-quantum) (3.7.1)\n",
            "Requirement already satisfied: networkx>=2.4 in /usr/local/lib/python3.10/dist-packages (from cirq-core==1.3.0->tensorflow-quantum) (3.3)\n",
            "Requirement already satisfied: numpy~=1.16 in /usr/local/lib/python3.10/dist-packages (from cirq-core==1.3.0->tensorflow-quantum) (1.25.2)\n",
            "Requirement already satisfied: pandas in /usr/local/lib/python3.10/dist-packages (from cirq-core==1.3.0->tensorflow-quantum) (2.0.3)\n",
            "Requirement already satisfied: sortedcontainers~=2.0 in /usr/local/lib/python3.10/dist-packages (from cirq-core==1.3.0->tensorflow-quantum) (2.4.0)\n",
            "Requirement already satisfied: scipy in /usr/local/lib/python3.10/dist-packages (from cirq-core==1.3.0->tensorflow-quantum) (1.11.4)\n",
            "Requirement already satisfied: typing-extensions>=4.2 in /usr/local/lib/python3.10/dist-packages (from cirq-core==1.3.0->tensorflow-quantum) (4.11.0)\n",
            "Requirement already satisfied: tqdm in /usr/local/lib/python3.10/dist-packages (from cirq-core==1.3.0->tensorflow-quantum) (4.66.4)\n",
            "Requirement already satisfied: google-api-core[grpc]>=1.14.0 in /usr/local/lib/python3.10/dist-packages (from cirq-google==1.3.0->tensorflow-quantum) (2.11.1)\n",
            "Requirement already satisfied: proto-plus>=1.20.0 in /usr/local/lib/python3.10/dist-packages (from cirq-google==1.3.0->tensorflow-quantum) (1.23.0)\n",
            "Requirement already satisfied: protobuf>=3.15.0 in /usr/local/lib/python3.10/dist-packages (from cirq-google==1.3.0->tensorflow-quantum) (3.20.3)\n",
            "Requirement already satisfied: mpmath>=0.19 in /usr/local/lib/python3.10/dist-packages (from sympy==1.12->tensorflow-quantum) (1.3.0)\n",
            "Requirement already satisfied: googleapis-common-protos<2.0.dev0,>=1.56.2 in /usr/local/lib/python3.10/dist-packages (from google-api-core[grpc]>=1.14.0->cirq-google==1.3.0->tensorflow-quantum) (1.63.0)\n",
            "Requirement already satisfied: google-auth<3.0.dev0,>=2.14.1 in /usr/local/lib/python3.10/dist-packages (from google-api-core[grpc]>=1.14.0->cirq-google==1.3.0->tensorflow-quantum) (2.27.0)\n",
            "Requirement already satisfied: requests<3.0.0.dev0,>=2.18.0 in /usr/local/lib/python3.10/dist-packages (from google-api-core[grpc]>=1.14.0->cirq-google==1.3.0->tensorflow-quantum) (2.31.0)\n",
            "Requirement already satisfied: grpcio<2.0dev,>=1.33.2 in /usr/local/lib/python3.10/dist-packages (from google-api-core[grpc]>=1.14.0->cirq-google==1.3.0->tensorflow-quantum) (1.63.0)\n",
            "Requirement already satisfied: grpcio-status<2.0.dev0,>=1.33.2 in /usr/local/lib/python3.10/dist-packages (from google-api-core[grpc]>=1.14.0->cirq-google==1.3.0->tensorflow-quantum) (1.48.2)\n",
            "Requirement already satisfied: contourpy>=1.0.1 in /usr/local/lib/python3.10/dist-packages (from matplotlib~=3.0->cirq-core==1.3.0->tensorflow-quantum) (1.2.1)\n",
            "Requirement already satisfied: cycler>=0.10 in /usr/local/lib/python3.10/dist-packages (from matplotlib~=3.0->cirq-core==1.3.0->tensorflow-quantum) (0.12.1)\n",
            "Requirement already satisfied: fonttools>=4.22.0 in /usr/local/lib/python3.10/dist-packages (from matplotlib~=3.0->cirq-core==1.3.0->tensorflow-quantum) (4.51.0)\n",
            "Requirement already satisfied: kiwisolver>=1.0.1 in /usr/local/lib/python3.10/dist-packages (from matplotlib~=3.0->cirq-core==1.3.0->tensorflow-quantum) (1.4.5)\n",
            "Requirement already satisfied: packaging>=20.0 in /usr/local/lib/python3.10/dist-packages (from matplotlib~=3.0->cirq-core==1.3.0->tensorflow-quantum) (24.0)\n",
            "Requirement already satisfied: pillow>=6.2.0 in /usr/local/lib/python3.10/dist-packages (from matplotlib~=3.0->cirq-core==1.3.0->tensorflow-quantum) (9.4.0)\n",
            "Requirement already satisfied: pyparsing>=2.3.1 in /usr/local/lib/python3.10/dist-packages (from matplotlib~=3.0->cirq-core==1.3.0->tensorflow-quantum) (3.1.2)\n",
            "Requirement already satisfied: python-dateutil>=2.7 in /usr/local/lib/python3.10/dist-packages (from matplotlib~=3.0->cirq-core==1.3.0->tensorflow-quantum) (2.8.2)\n",
            "Requirement already satisfied: pytz>=2020.1 in /usr/local/lib/python3.10/dist-packages (from pandas->cirq-core==1.3.0->tensorflow-quantum) (2023.4)\n",
            "Requirement already satisfied: tzdata>=2022.1 in /usr/local/lib/python3.10/dist-packages (from pandas->cirq-core==1.3.0->tensorflow-quantum) (2024.1)\n",
            "Requirement already satisfied: cachetools<6.0,>=2.0.0 in /usr/local/lib/python3.10/dist-packages (from google-auth<3.0.dev0,>=2.14.1->google-api-core[grpc]>=1.14.0->cirq-google==1.3.0->tensorflow-quantum) (5.3.3)\n",
            "Requirement already satisfied: pyasn1-modules>=0.2.1 in /usr/local/lib/python3.10/dist-packages (from google-auth<3.0.dev0,>=2.14.1->google-api-core[grpc]>=1.14.0->cirq-google==1.3.0->tensorflow-quantum) (0.4.0)\n",
            "Requirement already satisfied: rsa<5,>=3.1.4 in /usr/local/lib/python3.10/dist-packages (from google-auth<3.0.dev0,>=2.14.1->google-api-core[grpc]>=1.14.0->cirq-google==1.3.0->tensorflow-quantum) (4.9)\n",
            "Requirement already satisfied: six>=1.5 in /usr/local/lib/python3.10/dist-packages (from python-dateutil>=2.7->matplotlib~=3.0->cirq-core==1.3.0->tensorflow-quantum) (1.16.0)\n",
            "Requirement already satisfied: charset-normalizer<4,>=2 in /usr/local/lib/python3.10/dist-packages (from requests<3.0.0.dev0,>=2.18.0->google-api-core[grpc]>=1.14.0->cirq-google==1.3.0->tensorflow-quantum) (3.3.2)\n",
            "Requirement already satisfied: idna<4,>=2.5 in /usr/local/lib/python3.10/dist-packages (from requests<3.0.0.dev0,>=2.18.0->google-api-core[grpc]>=1.14.0->cirq-google==1.3.0->tensorflow-quantum) (3.7)\n",
            "Requirement already satisfied: urllib3<3,>=1.21.1 in /usr/local/lib/python3.10/dist-packages (from requests<3.0.0.dev0,>=2.18.0->google-api-core[grpc]>=1.14.0->cirq-google==1.3.0->tensorflow-quantum) (2.0.7)\n",
            "Requirement already satisfied: certifi>=2017.4.17 in /usr/local/lib/python3.10/dist-packages (from requests<3.0.0.dev0,>=2.18.0->google-api-core[grpc]>=1.14.0->cirq-google==1.3.0->tensorflow-quantum) (2024.2.2)\n",
            "Requirement already satisfied: pyasn1<0.7.0,>=0.4.6 in /usr/local/lib/python3.10/dist-packages (from pyasn1-modules>=0.2.1->google-auth<3.0.dev0,>=2.14.1->google-api-core[grpc]>=1.14.0->cirq-google==1.3.0->tensorflow-quantum) (0.6.0)\n",
            "Installing collected packages: duet, cirq-core, cirq-google, tensorflow-quantum\n",
            "Successfully installed cirq-core-1.3.0 cirq-google-1.3.0 duet-0.2.9 tensorflow-quantum-0.7.3\n"
          ]
        }
      ],
      "source": [
        "#!pip install tensorflow==2.15.0\n",
        "!pip install tensorflow-quantum  # ==0.7.2"
      ]
    },
    {
      "cell_type": "code",
      "source": [],
      "metadata": {
        "id": "BySENByeamRa"
      },
      "execution_count": null,
      "outputs": []
    },
    {
      "cell_type": "code",
      "source": [
        "!pip install tensorflow_docs"
      ],
      "metadata": {
        "id": "Kyr65OXiamTS",
        "outputId": "4c4815f4-d243-4c94-a3f3-a36bdab222ae",
        "colab": {
          "base_uri": "https://localhost:8080/"
        }
      },
      "execution_count": 29,
      "outputs": [
        {
          "output_type": "stream",
          "name": "stdout",
          "text": [
            "Collecting tensorflow_docs\n",
            "  Downloading tensorflow_docs-2024.2.5.73858-py3-none-any.whl (182 kB)\n",
            "\u001b[?25l     \u001b[90m━━━━━━━━━━━━━━━━━━━━━━━━━━━━━━━━━━━━━━━━\u001b[0m \u001b[32m0.0/182.5 kB\u001b[0m \u001b[31m?\u001b[0m eta \u001b[36m-:--:--\u001b[0m\r\u001b[2K     \u001b[91m━━━━━━━━━━━━━━━━━━━━━━\u001b[0m\u001b[90m╺\u001b[0m\u001b[90m━━━━━━━━━━━━━━━━━\u001b[0m \u001b[32m102.4/182.5 kB\u001b[0m \u001b[31m2.8 MB/s\u001b[0m eta \u001b[36m0:00:01\u001b[0m\r\u001b[2K     \u001b[90m━━━━━━━━━━━━━━━━━━━━━━━━━━━━━━━━━━━━━━━━\u001b[0m \u001b[32m182.5/182.5 kB\u001b[0m \u001b[31m3.5 MB/s\u001b[0m eta \u001b[36m0:00:00\u001b[0m\n",
            "\u001b[?25hCollecting astor (from tensorflow_docs)\n",
            "  Downloading astor-0.8.1-py2.py3-none-any.whl (27 kB)\n",
            "Requirement already satisfied: absl-py in /usr/local/lib/python3.10/dist-packages (from tensorflow_docs) (1.4.0)\n",
            "Requirement already satisfied: jinja2 in /usr/local/lib/python3.10/dist-packages (from tensorflow_docs) (3.1.4)\n",
            "Requirement already satisfied: nbformat in /usr/local/lib/python3.10/dist-packages (from tensorflow_docs) (5.10.4)\n",
            "Requirement already satisfied: protobuf>=3.12 in /usr/local/lib/python3.10/dist-packages (from tensorflow_docs) (3.20.3)\n",
            "Requirement already satisfied: pyyaml in /usr/local/lib/python3.10/dist-packages (from tensorflow_docs) (6.0.1)\n",
            "Requirement already satisfied: MarkupSafe>=2.0 in /usr/local/lib/python3.10/dist-packages (from jinja2->tensorflow_docs) (2.1.5)\n",
            "Requirement already satisfied: fastjsonschema>=2.15 in /usr/local/lib/python3.10/dist-packages (from nbformat->tensorflow_docs) (2.19.1)\n",
            "Requirement already satisfied: jsonschema>=2.6 in /usr/local/lib/python3.10/dist-packages (from nbformat->tensorflow_docs) (4.19.2)\n",
            "Requirement already satisfied: jupyter-core!=5.0.*,>=4.12 in /usr/local/lib/python3.10/dist-packages (from nbformat->tensorflow_docs) (5.7.2)\n",
            "Requirement already satisfied: traitlets>=5.1 in /usr/local/lib/python3.10/dist-packages (from nbformat->tensorflow_docs) (5.7.1)\n",
            "Requirement already satisfied: attrs>=22.2.0 in /usr/local/lib/python3.10/dist-packages (from jsonschema>=2.6->nbformat->tensorflow_docs) (23.2.0)\n",
            "Requirement already satisfied: jsonschema-specifications>=2023.03.6 in /usr/local/lib/python3.10/dist-packages (from jsonschema>=2.6->nbformat->tensorflow_docs) (2023.12.1)\n",
            "Requirement already satisfied: referencing>=0.28.4 in /usr/local/lib/python3.10/dist-packages (from jsonschema>=2.6->nbformat->tensorflow_docs) (0.35.1)\n",
            "Requirement already satisfied: rpds-py>=0.7.1 in /usr/local/lib/python3.10/dist-packages (from jsonschema>=2.6->nbformat->tensorflow_docs) (0.18.1)\n",
            "Requirement already satisfied: platformdirs>=2.5 in /usr/local/lib/python3.10/dist-packages (from jupyter-core!=5.0.*,>=4.12->nbformat->tensorflow_docs) (4.2.1)\n",
            "Installing collected packages: astor, tensorflow_docs\n",
            "Successfully installed astor-0.8.1 tensorflow_docs-2024.2.5.73858\n"
          ]
        }
      ]
    },
    {
      "cell_type": "code",
      "execution_count": null,
      "metadata": {
        "id": "QStNslxBwgte"
      },
      "outputs": [],
      "source": [
        "!pip install -q git+https://github.com/tensorflow/docs"
      ]
    },
    {
      "cell_type": "code",
      "execution_count": 4,
      "metadata": {
        "colab": {
          "base_uri": "https://localhost:8080/"
        },
        "id": "4Ql5PW-ACO0J",
        "outputId": "151ac8c5-e65e-464c-9c12-4374e46f108f"
      },
      "outputs": [
        {
          "output_type": "execute_result",
          "data": {
            "text/plain": [
              "<module 'pkg_resources' from '/usr/local/lib/python3.10/dist-packages/pkg_resources/__init__.py'>"
            ]
          },
          "metadata": {},
          "execution_count": 4
        }
      ],
      "source": [
        "# Update package resources to account for version changes.\n",
        "import importlib, pkg_resources\n",
        "importlib.reload(pkg_resources)"
      ]
    },
    {
      "cell_type": "code",
      "execution_count": 32,
      "metadata": {
        "id": "iRU07S4o8B52"
      },
      "outputs": [],
      "source": [
        "import random\n",
        "import cirq\n",
        "import sympy\n",
        "import tensorflow_quantum as tfq\n",
        "import tensorflow as tf\n",
        "import numpy as np\n",
        "# Plotting\n",
        "import matplotlib.pyplot as plt\n",
        "import tensorflow_docs as tfdocs\n",
        "import tensorflow_docs.plots"
      ]
    },
    {
      "cell_type": "markdown",
      "metadata": {
        "id": "CVnAGxZyruv8"
      },
      "source": [
        "## 1. Understanding quantum noise\n",
        "\n",
        "### 1.1 Basic circuit noise\n",
        "\n",
        "Noise on a quantum computer impacts the bitstring samples you are able to measure from it. One intuitive way you can start to think about this is that a noisy quantum computer will \"insert\", \"delete\" or \"replace\" gates in random places like the diagram below:\n",
        "\n",
        "<img src=\"https://github.com/tensorflow/quantum/blob/master/docs/tutorials/images/noise_1.png?raw=1\" width=700>\n",
        "\n",
        "Building off of this intuition, when dealing with noise, you are no longer using a single pure state $|\\psi \\rangle$ but instead dealing with an *ensemble* of all possible noisy realizations of your desired circuit: $\\rho = \\sum_j p_j |\\psi_j \\rangle \\langle \\psi_j |$ . Where $p_j$ gives the probability that the system is in $|\\psi_j \\rangle$ .\n",
        "\n",
        "Revisiting the above picture, if we knew beforehand that 90% of the time our system executed perfectly, or errored 10% of the time with just this one mode of failure, then our ensemble would be:\n",
        "\n",
        "$\\rho = 0.9 |\\psi_\\text{desired} \\rangle \\langle \\psi_\\text{desired}| + 0.1 |\\psi_\\text{noisy} \\rangle \\langle \\psi_\\text{noisy}| $\n",
        "\n",
        "If there was more than just one way that our circuit could error, then the ensemble $\\rho$ would contain more than just two terms (one for each new noisy realization that could happen). $\\rho$ is referred to as the [density matrix](https://en.wikipedia.org/wiki/Density_matrix) describing your noisy system.\n",
        "\n",
        "### 1.2 Using channels to model circuit noise\n",
        "\n",
        "Unfortunately in practice it's nearly impossible to know all the ways your circuit might error and their exact probabilities. A simplifying assumption you can make is that after each operation in your circuit there is some kind of [channel](https://quantumai.google/cirq/noise) that roughly captures how that operation might error. You can quickly create a circuit with some noise:"
      ]
    },
    {
      "cell_type": "code",
      "execution_count": 8,
      "metadata": {
        "id": "Eu_vpHbfrQKQ",
        "outputId": "e9b8a26a-a0ea-473a-d9a3-d869dce6a5ee",
        "colab": {
          "base_uri": "https://localhost:8080/",
          "height": 69
        }
      },
      "outputs": [
        {
          "output_type": "execute_result",
          "data": {
            "text/plain": [
              "(0, 0): ───X───\n",
              "\n",
              "(0, 1): ───X───"
            ],
            "text/html": [
              "<pre style=\"overflow: auto; white-space: pre;\">(0, 0): ───X───\n",
              "\n",
              "(0, 1): ───X───</pre>"
            ]
          },
          "metadata": {},
          "execution_count": 8
        }
      ],
      "source": [
        "def x_circuit(qubits):\n",
        "  \"\"\"Produces an X wall circuit on `qubits`.\"\"\"\n",
        "  return cirq.Circuit(cirq.X.on_each(*qubits))\n",
        "\n",
        "def make_noisy(circuit, p):\n",
        "  \"\"\"Add a depolarization channel to all qubits in `circuit` before measurement.\"\"\"\n",
        "  return circuit + cirq.Circuit(cirq.depolarize(p).on_each(*circuit.all_qubits()))\n",
        "\n",
        "my_qubits = cirq.GridQubit.rect(1, 2)\n",
        "my_circuit = x_circuit(my_qubits)\n",
        "my_noisy_circuit = make_noisy(my_circuit, 0.5)\n",
        "my_circuit"
      ]
    },
    {
      "cell_type": "code",
      "execution_count": 9,
      "metadata": {
        "id": "1B7vmyPm_TQ7",
        "outputId": "9d1d8f90-070a-4503-b45d-39afe2e0a868",
        "colab": {
          "base_uri": "https://localhost:8080/",
          "height": 69
        }
      },
      "outputs": [
        {
          "output_type": "execute_result",
          "data": {
            "text/plain": [
              "(0, 0): ───X───D(0.5)───\n",
              "\n",
              "(0, 1): ───X───D(0.5)───"
            ],
            "text/html": [
              "<pre style=\"overflow: auto; white-space: pre;\">(0, 0): ───X───D(0.5)───\n",
              "\n",
              "(0, 1): ───X───D(0.5)───</pre>"
            ]
          },
          "metadata": {},
          "execution_count": 9
        }
      ],
      "source": [
        "my_noisy_circuit"
      ]
    },
    {
      "cell_type": "markdown",
      "metadata": {
        "id": "EejhXc2e9Cl8"
      },
      "source": [
        "You can examine the noiseless density matrix $\\rho$ with:"
      ]
    },
    {
      "cell_type": "code",
      "execution_count": 10,
      "metadata": {
        "id": "0QN9W69U8v_V",
        "outputId": "21b0b0da-0716-4c3e-f7ac-532ba46bd630",
        "colab": {
          "base_uri": "https://localhost:8080/"
        }
      },
      "outputs": [
        {
          "output_type": "execute_result",
          "data": {
            "text/plain": [
              "array([[0.+0.j, 0.+0.j, 0.+0.j, 0.+0.j],\n",
              "       [0.+0.j, 0.+0.j, 0.+0.j, 0.+0.j],\n",
              "       [0.+0.j, 0.+0.j, 0.+0.j, 0.+0.j],\n",
              "       [0.+0.j, 0.+0.j, 0.+0.j, 1.+0.j]], dtype=complex64)"
            ]
          },
          "metadata": {},
          "execution_count": 10
        }
      ],
      "source": [
        "rho = cirq.final_density_matrix(my_circuit)\n",
        "np.round(rho, 3)"
      ]
    },
    {
      "cell_type": "markdown",
      "metadata": {
        "id": "RHHBeizr-DEo"
      },
      "source": [
        "And the noisy density matrix $\\rho$ with:\n"
      ]
    },
    {
      "cell_type": "code",
      "execution_count": 11,
      "metadata": {
        "id": "zSD9H8SC9IJ1",
        "outputId": "183ce2ae-c65f-4acf-b87e-7ab75b356ac0",
        "colab": {
          "base_uri": "https://localhost:8080/"
        }
      },
      "outputs": [
        {
          "output_type": "execute_result",
          "data": {
            "text/plain": [
              "array([[0.111+0.j, 0.   +0.j, 0.   +0.j, 0.   +0.j],\n",
              "       [0.   +0.j, 0.222+0.j, 0.   +0.j, 0.   +0.j],\n",
              "       [0.   +0.j, 0.   +0.j, 0.222+0.j, 0.   +0.j],\n",
              "       [0.   +0.j, 0.   +0.j, 0.   +0.j, 0.444+0.j]], dtype=complex64)"
            ]
          },
          "metadata": {},
          "execution_count": 11
        }
      ],
      "source": [
        "rho = cirq.final_density_matrix(my_noisy_circuit)\n",
        "np.round(rho, 3)"
      ]
    },
    {
      "cell_type": "markdown",
      "metadata": {
        "id": "2YWiejLl-a0Z"
      },
      "source": [
        "Comparing the two different $ \\rho $ 's you can see that the noise has impacted the amplitudes of the state (and consequently sampling probabilities). In the noiseless case you would always expect to sample the $ |11\\rangle $ state. But in the noisy state there is now a nonzero probability of sampling $ |00\\rangle $ or $ |01\\rangle $ or $ |10\\rangle $ as well:"
      ]
    },
    {
      "cell_type": "code",
      "execution_count": 12,
      "metadata": {
        "id": "Z4uj-Zs0AE3n",
        "outputId": "daba0579-ff9b-4efd-9587-8c9f8368cc13",
        "colab": {
          "base_uri": "https://localhost:8080/",
          "height": 487
        }
      },
      "outputs": [
        {
          "output_type": "display_data",
          "data": {
            "text/plain": [
              "<Figure size 1000x500 with 1 Axes>"
            ],
            "image/png": "[encoded data removed]"
          },
          "metadata": {}
        }
      ],
      "source": [
        "\"\"\"Sample from my_noisy_circuit.\"\"\"\n",
        "def plot_samples(circuit):\n",
        "  samples = cirq.sample(circuit + cirq.measure(*circuit.all_qubits(), key='bits'), repetitions=1000)\n",
        "  freqs, _ = np.histogram(samples.data['bits'], bins=[i+0.01 for i in range(-1,2** len(my_qubits))])\n",
        "  plt.figure(figsize=(10,5))\n",
        "  plt.title('Noisy Circuit Sampling')\n",
        "  plt.xlabel('Bitstring')\n",
        "  plt.ylabel('Frequency')\n",
        "  plt.bar([i for i in range(2** len(my_qubits))], freqs, tick_label=['00','01','10','11'])\n",
        "\n",
        "plot_samples(my_noisy_circuit)"
      ]
    },
    {
      "cell_type": "markdown",
      "metadata": {
        "id": "IpPh1Y0HEOWs"
      },
      "source": [
        "Without any noise you will always get $|11\\rangle$:"
      ]
    },
    {
      "cell_type": "code",
      "execution_count": 13,
      "metadata": {
        "id": "NRCOhTVpEJzz",
        "outputId": "24dc917e-250a-4a51-df1a-a4d5265176df",
        "colab": {
          "base_uri": "https://localhost:8080/",
          "height": 487
        }
      },
      "outputs": [
        {
          "output_type": "display_data",
          "data": {
            "text/plain": [
              "<Figure size 1000x500 with 1 Axes>"
            ],
            "image/png": "[encoded data removed]"
          },
          "metadata": {}
        }
      ],
      "source": [
        "\"\"\"Sample from my_circuit.\"\"\"\n",
        "plot_samples(my_circuit)"
      ]
    },
    {
      "cell_type": "markdown",
      "metadata": {
        "id": "EMbJBXAiT9GH"
      },
      "source": [
        "If you increase the noise a little further it will become harder and harder to distinguish the desired behavior (sampling $|11\\rangle$ ) from the noise:"
      ]
    },
    {
      "cell_type": "code",
      "execution_count": 14,
      "metadata": {
        "id": "D2Fg-FUdUJQx",
        "outputId": "317bb0cb-430c-42f9-c56d-614d43dc451e",
        "colab": {
          "base_uri": "https://localhost:8080/",
          "height": 487
        }
      },
      "outputs": [
        {
          "output_type": "display_data",
          "data": {
            "text/plain": [
              "<Figure size 1000x500 with 1 Axes>"
            ],
            "image/png": "[encoded data removed]"
          },
          "metadata": {}
        }
      ],
      "source": [
        "my_really_noisy_circuit = make_noisy(my_circuit, 0.75)\n",
        "plot_samples(my_really_noisy_circuit)"
      ]
    },
    {
      "cell_type": "markdown",
      "metadata": {
        "id": "oV-0WV5Z7FQ8"
      },
      "source": [
        "Note: Try experimenting with different channels in your circuit to generate noise. Common channels supported in both Cirq and TFQ can be found [here](https://github.com/quantumlib/Cirq/blob/master/cirq-core/cirq/ops/common_channels.py)"
      ]
    },
    {
      "cell_type": "markdown",
      "metadata": {
        "id": "atzsYj5qScn0"
      },
      "source": [
        "## 2. Basic noise in TFQ\n",
        "With this understanding of how noise can impact circuit execution, you can explore how noise works in TFQ. TensorFlow Quantum uses monte-carlo / trajectory based simulation as an alternative to density matrix simulation. This is because the memory complexity of density matrix simulation limits large simulations to being <= 20 qubits with traditional full density matrix simulation methods. Monte-carlo / trajectory trades this cost in memory for additional cost in time. The `backend='noisy'` option available to all `tfq.layers.Sample`, `tfq.layers.SampledExpectation` and `tfq.layers.Expectation` (In the case of `Expectation` this does add a required `repetitions` parameter).\n",
        "\n",
        "### 2.1 Noisy sampling in TFQ\n",
        "To recreate the above plots using TFQ and trajectory simulation you can use `tfq.layers.Sample`"
      ]
    },
    {
      "cell_type": "code",
      "execution_count": 15,
      "metadata": {
        "id": "byVI5nbNQ4_b"
      },
      "outputs": [],
      "source": [
        "\"\"\"Draw bitstring samples from `my_noisy_circuit`\"\"\"\n",
        "bitstrings = tfq.layers.Sample(backend='noisy')(my_noisy_circuit, repetitions=1000)"
      ]
    },
    {
      "cell_type": "code",
      "execution_count": 16,
      "metadata": {
        "id": "ncl0ruCZrd2s",
        "outputId": "90f346aa-f7fd-43ec-a287-fbb957d840cc",
        "colab": {
          "base_uri": "https://localhost:8080/",
          "height": 504
        }
      },
      "outputs": [
        {
          "output_type": "execute_result",
          "data": {
            "text/plain": [
              "<BarContainer object of 4 artists>"
            ]
          },
          "metadata": {},
          "execution_count": 16
        },
        {
          "output_type": "display_data",
          "data": {
            "text/plain": [
              "<Figure size 1000x500 with 1 Axes>"
            ],
            "image/png": "[encoded data removed]"
          },
          "metadata": {}
        }
      ],
      "source": [
        "numeric_values = np.einsum('ijk,k->ij', bitstrings.to_tensor().numpy(), [1, 2])[0]\n",
        "freqs, _ = np.histogram(numeric_values, bins=[i+0.01 for i in range(-1,2** len(my_qubits))])\n",
        "plt.figure(figsize=(10,5))\n",
        "plt.title('Noisy Circuit Sampling')\n",
        "plt.xlabel('Bitstring')\n",
        "plt.ylabel('Frequency')\n",
        "plt.bar([i for i in range(2** len(my_qubits))], freqs, tick_label=['00','01','10','11'])"
      ]
    },
    {
      "cell_type": "markdown",
      "metadata": {
        "id": "QfHq13RwuLlF"
      },
      "source": [
        "### 2.2 Noisy sample based expectation\n",
        "To do noisy sample based expectation calculation you can use `tfq.layers.SampleExpectation`:\n"
      ]
    },
    {
      "cell_type": "code",
      "execution_count": 17,
      "metadata": {
        "id": "ep45G-09rfrA",
        "outputId": "e370a310-8d6a-42fd-aa66-cee8d5de66bd",
        "colab": {
          "base_uri": "https://localhost:8080/"
        }
      },
      "outputs": [
        {
          "output_type": "execute_result",
          "data": {
            "text/plain": [
              "[cirq.X(cirq.GridQubit(0, 0)),\n",
              " cirq.Z(cirq.GridQubit(0, 0)),\n",
              " cirq.PauliSum(cirq.LinearDict({frozenset({(cirq.GridQubit(0, 1), cirq.Y)}): (3+0j), frozenset(): (1+0j)}))]"
            ]
          },
          "metadata": {},
          "execution_count": 17
        }
      ],
      "source": [
        "some_observables = [cirq.X(my_qubits[0]), cirq.Z(my_qubits[0]), 3.0 * cirq.Y(my_qubits[1]) + 1]\n",
        "some_observables"
      ]
    },
    {
      "cell_type": "markdown",
      "metadata": {
        "id": "ur4iF_PGv0Xf"
      },
      "source": [
        "Compute the noiseless expectation estimates via sampling from the circuit:"
      ]
    },
    {
      "cell_type": "code",
      "execution_count": 18,
      "metadata": {
        "id": "jL6wJ3LCvNcn",
        "outputId": "a3dd35d7-24d1-40e0-93db-44ca58dab809",
        "colab": {
          "base_uri": "https://localhost:8080/"
        }
      },
      "outputs": [
        {
          "output_type": "execute_result",
          "data": {
            "text/plain": [
              "array([[-0.0066, -1.    ,  0.9964]], dtype=float32)"
            ]
          },
          "metadata": {},
          "execution_count": 18
        }
      ],
      "source": [
        "noiseless_sampled_expectation = tfq.layers.SampledExpectation(backend='noiseless')(\n",
        "    my_circuit, operators=some_observables, repetitions=10000\n",
        ")\n",
        "noiseless_sampled_expectation.numpy()"
      ]
    },
    {
      "cell_type": "markdown",
      "metadata": {
        "id": "c6hHgNtEv40i"
      },
      "source": [
        "Compare those with the noisy versions:"
      ]
    },
    {
      "cell_type": "code",
      "execution_count": 19,
      "metadata": {
        "id": "8U4Gm-LGvYqa",
        "outputId": "8e9c540c-b689-4785-9b08-6c9b9aee23bc",
        "colab": {
          "base_uri": "https://localhost:8080/"
        }
      },
      "outputs": [
        {
          "output_type": "stream",
          "name": "stderr",
          "text": [
            "/usr/local/lib/python3.10/dist-packages/keras/src/initializers/initializers.py:120: UserWarning: The initializer RandomUniform is unseeded and being called multiple times, which will return identical values each time (even if the initializer is unseeded). Please update your code to provide a seed to the initializer, or avoid using the same initializer instance more than once.\n",
            "  warnings.warn(\n"
          ]
        },
        {
          "output_type": "execute_result",
          "data": {
            "text/plain": [
              "array([[-0.004     , -0.34719998,  1.015     ],\n",
              "       [-0.0122    , -0.01      ,  0.97720003]], dtype=float32)"
            ]
          },
          "metadata": {},
          "execution_count": 19
        }
      ],
      "source": [
        "noisy_sampled_expectation = tfq.layers.SampledExpectation(backend='noisy')(\n",
        "    [my_noisy_circuit, my_really_noisy_circuit], operators=some_observables, repetitions=10000\n",
        ")\n",
        "noisy_sampled_expectation.numpy()"
      ]
    },
    {
      "cell_type": "markdown",
      "metadata": {
        "id": "CqQ_2c7XwMku"
      },
      "source": [
        "You can see that the noise has particularly impacted the $\\langle \\psi | Z | \\psi \\rangle$ accuracy, with `my_really_noisy_circuit` concentrating very quickly towards 0.\n",
        "\n",
        "### 2.3 Noisy analytic expectation calculation\n",
        "Doing noisy analytic expectation calculations is nearly identical to above:\n",
        "\n"
      ]
    },
    {
      "cell_type": "code",
      "execution_count": 20,
      "metadata": {
        "id": "pGXKlyCywAfj",
        "outputId": "7a7314ad-ab71-48b5-c3c7-a96663257957",
        "colab": {
          "base_uri": "https://localhost:8080/"
        }
      },
      "outputs": [
        {
          "output_type": "execute_result",
          "data": {
            "text/plain": [
              "array([[ 1.9106853e-15, -1.0000000e+00,  1.0000002e+00]], dtype=float32)"
            ]
          },
          "metadata": {},
          "execution_count": 20
        }
      ],
      "source": [
        "noiseless_analytic_expectation = tfq.layers.Expectation(backend='noiseless')(\n",
        "    my_circuit, operators=some_observables\n",
        ")\n",
        "noiseless_analytic_expectation.numpy()"
      ]
    },
    {
      "cell_type": "code",
      "execution_count": 21,
      "metadata": {
        "id": "6FUkJ7aOyTlI",
        "outputId": "b95389cc-b188-4421-d327-a032ca672c51",
        "colab": {
          "base_uri": "https://localhost:8080/"
        }
      },
      "outputs": [
        {
          "output_type": "execute_result",
          "data": {
            "text/plain": [
              "array([[ 1.9106855e-15, -3.4299999e-01,  1.0000001e+00],\n",
              "       [ 1.9106855e-15,  1.4000000e-03,  1.0000000e+00]], dtype=float32)"
            ]
          },
          "metadata": {},
          "execution_count": 21
        }
      ],
      "source": [
        "noisy_analytic_expectation = tfq.layers.Expectation(backend='noisy')(\n",
        "    [my_noisy_circuit, my_really_noisy_circuit], operators=some_observables, repetitions=10000\n",
        ")\n",
        "noisy_analytic_expectation.numpy()"
      ]
    },
    {
      "cell_type": "markdown",
      "metadata": {
        "id": "5KHvORT42XFV"
      },
      "source": [
        "## 3. Hybrid models and quantum data noise\n",
        "Now that you have implemented some noisy circuit simulations in TFQ, you can experiment with how noise impacts quantum and hybrid quantum classical models, by comparing and contrasting their noisy vs noiseless performance. A good first check to see if a model or algorithm is robust to noise is to test under a circuit wide depolarizing model which looks something like this:\n",
        "\n",
        "<img src=\"https://github.com/tensorflow/quantum/blob/master/docs/tutorials/images/noise_2.png?raw=1\" width=500>\n",
        "\n",
        "Where each time slice of the circuit (sometimes referred to as moment) has a depolarizing channel appended after each gate operation in that time slice. The depolarizing channel with apply one of $\\{X, Y, Z \\}$ with probability $p$ or apply nothing (keep the original operation) with probability $1-p$.\n",
        "\n",
        "### 3.1 Data\n",
        "For this example you can use some prepared circuits in the `tfq.datasets` module as training data:"
      ]
    },
    {
      "cell_type": "code",
      "execution_count": 22,
      "metadata": {
        "id": "_ZqVLEji2WUx",
        "outputId": "8db65e09-d8f6-4821-ebfd-2ca5349a9ba3",
        "colab": {
          "base_uri": "https://localhost:8080/",
          "height": 364
        }
      },
      "outputs": [
        {
          "output_type": "stream",
          "name": "stdout",
          "text": [
            "Downloading data from https://storage.googleapis.com/download.tensorflow.org/data/quantum/spin_systems/XXZ_chain.zip \n",
            "184449737/184449737 [==============================] - 3s 0us/step\n"
          ]
        },
        {
          "output_type": "execute_result",
          "data": {
            "text/plain": [
              "                       ┌──────────────────┐   ┌──────────────────────┐   ┌──────────────────────┐                                       ┌──────────────────┐   ┌──────────────────┐   ┌──────────────────┐                                        ┌──────────────────┐   ┌──────────────────┐   ┌──────────────────┐                                        ┌──────────────────┐   ┌──────────────────┐   ┌──────────────────┐\n",
              "(0, 0): ───X───H───@─────────────ZZ───────────────────────YY─────────────────────────XX─────────────ZZ──────────YY──────────XX────────────────────ZZ─────────────────────YY─────────────────────XX───────────ZZ─────────YY───────────XX─────────────────────ZZ─────────────────────YY─────────────────────XX───────────ZZ─────────YY───────────XX─────────────────────ZZ─────────────────────YY─────────────────────XX───────────ZZ──────────YY──────────XX──────────\n",
              "                   │             │                        │                          │              │           │           │                     │                      │                      │            │          │            │                      │                      │                      │            │          │            │                      │                      │                      │            │           │           │\n",
              "(0, 1): ───X───────X────ZZ───────┼─────────────YY─────────┼───────────────XX─────────┼──────────────ZZ^-0.941───YY^-0.767───XX^-0.767────ZZ───────┼─────────────YY───────┼─────────────XX───────┼────────────ZZ^-0.98───YY^(-9/11)───XX^(-9/11)────ZZ───────┼─────────────YY───────┼─────────────XX───────┼────────────ZZ^-0.98───YY^(-9/11)───XX^(-9/11)────ZZ───────┼─────────────YY───────┼─────────────XX───────┼────────────ZZ^-0.985───YY^-0.901───XX^-0.901───\n",
              "                        │        │             │          │               │          │                                                   │        │             │        │             │        │                                                  │        │             │        │             │        │                                                  │        │             │        │             │        │\n",
              "(0, 2): ───X───H───@────ZZ^-0.977┼─────────────YY^(-10/11)┼───────────────XX^(-10/11)┼──────────────ZZ──────────YY──────────XX───────────ZZ^-0.968┼─────────────YY^-0.898┼─────────────XX^-0.898┼────────────ZZ─────────YY───────────XX────────────ZZ^-0.962┼─────────────YY^-0.869┼─────────────XX^-0.869┼────────────ZZ─────────YY───────────XX────────────ZZ^-0.954┼─────────────YY^-0.904┼─────────────XX^-0.904┼────────────ZZ──────────YY──────────XX──────────\n",
              "                   │             │                        │                          │              │           │           │                     │                      │                      │            │          │            │                      │                      │                      │            │          │            │                      │                      │                      │            │           │           │\n",
              "(0, 3): ───X───────X────ZZ───────┼─────────────YY─────────┼───────────────XX─────────┼──────────────ZZ^-0.941───YY^-0.767───XX^-0.767────ZZ───────┼─────────────YY───────┼─────────────XX───────┼────────────ZZ^-0.98───YY^(-9/11)───XX^(-9/11)────ZZ───────┼─────────────YY───────┼─────────────XX───────┼────────────ZZ^-0.98───YY^(-9/11)───XX^(-9/11)────ZZ───────┼─────────────YY───────┼─────────────XX───────┼────────────ZZ^-0.985───YY^-0.901───XX^-0.901───\n",
              "                        │        │             │          │               │          │                                                   │        │             │        │             │        │                                                  │        │             │        │             │        │                                                  │        │             │        │             │        │\n",
              "(0, 4): ───X───H───@────ZZ^-0.977┼─────────────YY^(-10/11)┼───────────────XX^(-10/11)┼──────────────ZZ──────────YY──────────XX───────────ZZ^-0.968┼─────────────YY^-0.898┼─────────────XX^-0.898┼────────────ZZ─────────YY───────────XX────────────ZZ^-0.962┼─────────────YY^-0.869┼─────────────XX^-0.869┼────────────ZZ─────────YY───────────XX────────────ZZ^-0.954┼─────────────YY^-0.904┼─────────────XX^-0.904┼────────────ZZ──────────YY──────────XX──────────\n",
              "                   │             │                        │                          │              │           │           │                     │                      │                      │            │          │            │                      │                      │                      │            │          │            │                      │                      │                      │            │           │           │\n",
              "(0, 5): ───X───────X────ZZ───────┼─────────────YY─────────┼───────────────XX─────────┼──────────────ZZ^-0.941───YY^-0.767───XX^-0.767────ZZ───────┼─────────────YY───────┼─────────────XX───────┼────────────ZZ^-0.98───YY^(-9/11)───XX^(-9/11)────ZZ───────┼─────────────YY───────┼─────────────XX───────┼────────────ZZ^-0.98───YY^(-9/11)───XX^(-9/11)────ZZ───────┼─────────────YY───────┼─────────────XX───────┼────────────ZZ^-0.985───YY^-0.901───XX^-0.901───\n",
              "                        │        │             │          │               │          │                                                   │        │             │        │             │        │                                                  │        │             │        │             │        │                                                  │        │             │        │             │        │\n",
              "(0, 6): ───X───H───@────ZZ^-0.977┼─────────────YY^(-10/11)┼───────────────XX^(-10/11)┼──────────────ZZ──────────YY──────────XX───────────ZZ^-0.968┼─────────────YY^-0.898┼─────────────XX^-0.898┼────────────ZZ─────────YY───────────XX────────────ZZ^-0.962┼─────────────YY^-0.869┼─────────────XX^-0.869┼────────────ZZ─────────YY───────────XX────────────ZZ^-0.954┼─────────────YY^-0.904┼─────────────XX^-0.904┼────────────ZZ──────────YY──────────XX──────────\n",
              "                   │             │                        │                          │              │           │           │                     │                      │                      │            │          │            │                      │                      │                      │            │          │            │                      │                      │                      │            │           │           │\n",
              "(0, 7): ───X───────X─────────────ZZ^-0.977────────────────YY^(-10/11)────────────────XX^(-10/11)────ZZ^-0.941───YY^-0.767───XX^-0.767─────────────ZZ^-0.968──────────────YY^-0.898──────────────XX^-0.898────ZZ^-0.98───YY^(-9/11)───XX^(-9/11)─────────────ZZ^-0.962──────────────YY^-0.869──────────────XX^-0.869────ZZ^-0.98───YY^(-9/11)───XX^(-9/11)─────────────ZZ^-0.954──────────────YY^-0.904──────────────XX^-0.904────ZZ^-0.985───YY^-0.901───XX^-0.901───\n",
              "                       └──────────────────┘   └──────────────────────┘   └──────────────────────┘                                       └──────────────────┘   └──────────────────┘   └──────────────────┘                                        └──────────────────┘   └──────────────────┘   └──────────────────┘                                        └──────────────────┘   └──────────────────┘   └──────────────────┘"
            ],
            "text/html": [
              "<pre style=\"overflow: auto; white-space: pre;\">                       ┌──────────────────┐   ┌──────────────────────┐   ┌──────────────────────┐                                       ┌──────────────────┐   ┌──────────────────┐   ┌──────────────────┐                                        ┌──────────────────┐   ┌──────────────────┐   ┌──────────────────┐                                        ┌──────────────────┐   ┌──────────────────┐   ┌──────────────────┐\n",
              "(0, 0): ───X───H───@─────────────ZZ───────────────────────YY─────────────────────────XX─────────────ZZ──────────YY──────────XX────────────────────ZZ─────────────────────YY─────────────────────XX───────────ZZ─────────YY───────────XX─────────────────────ZZ─────────────────────YY─────────────────────XX───────────ZZ─────────YY───────────XX─────────────────────ZZ─────────────────────YY─────────────────────XX───────────ZZ──────────YY──────────XX──────────\n",
              "                   │             │                        │                          │              │           │           │                     │                      │                      │            │          │            │                      │                      │                      │            │          │            │                      │                      │                      │            │           │           │\n",
              "(0, 1): ───X───────X────ZZ───────┼─────────────YY─────────┼───────────────XX─────────┼──────────────ZZ^-0.941───YY^-0.767───XX^-0.767────ZZ───────┼─────────────YY───────┼─────────────XX───────┼────────────ZZ^-0.98───YY^(-9/11)───XX^(-9/11)────ZZ───────┼─────────────YY───────┼─────────────XX───────┼────────────ZZ^-0.98───YY^(-9/11)───XX^(-9/11)────ZZ───────┼─────────────YY───────┼─────────────XX───────┼────────────ZZ^-0.985───YY^-0.901───XX^-0.901───\n",
              "                        │        │             │          │               │          │                                                   │        │             │        │             │        │                                                  │        │             │        │             │        │                                                  │        │             │        │             │        │\n",
              "(0, 2): ───X───H───@────ZZ^-0.977┼─────────────YY^(-10/11)┼───────────────XX^(-10/11)┼──────────────ZZ──────────YY──────────XX───────────ZZ^-0.968┼─────────────YY^-0.898┼─────────────XX^-0.898┼────────────ZZ─────────YY───────────XX────────────ZZ^-0.962┼─────────────YY^-0.869┼─────────────XX^-0.869┼────────────ZZ─────────YY───────────XX────────────ZZ^-0.954┼─────────────YY^-0.904┼─────────────XX^-0.904┼────────────ZZ──────────YY──────────XX──────────\n",
              "                   │             │                        │                          │              │           │           │                     │                      │                      │            │          │            │                      │                      │                      │            │          │            │                      │                      │                      │            │           │           │\n",
              "(0, 3): ───X───────X────ZZ───────┼─────────────YY─────────┼───────────────XX─────────┼──────────────ZZ^-0.941───YY^-0.767───XX^-0.767────ZZ───────┼─────────────YY───────┼─────────────XX───────┼────────────ZZ^-0.98───YY^(-9/11)───XX^(-9/11)────ZZ───────┼─────────────YY───────┼─────────────XX───────┼────────────ZZ^-0.98───YY^(-9/11)───XX^(-9/11)────ZZ───────┼─────────────YY───────┼─────────────XX───────┼────────────ZZ^-0.985───YY^-0.901───XX^-0.901───\n",
              "                        │        │             │          │               │          │                                                   │        │             │        │             │        │                                                  │        │             │        │             │        │                                                  │        │             │        │             │        │\n",
              "(0, 4): ───X───H───@────ZZ^-0.977┼─────────────YY^(-10/11)┼───────────────XX^(-10/11)┼──────────────ZZ──────────YY──────────XX───────────ZZ^-0.968┼─────────────YY^-0.898┼─────────────XX^-0.898┼────────────ZZ─────────YY───────────XX────────────ZZ^-0.962┼─────────────YY^-0.869┼─────────────XX^-0.869┼────────────ZZ─────────YY───────────XX────────────ZZ^-0.954┼─────────────YY^-0.904┼─────────────XX^-0.904┼────────────ZZ──────────YY──────────XX──────────\n",
              "                   │             │                        │                          │              │           │           │                     │                      │                      │            │          │            │                      │                      │                      │            │          │            │                      │                      │                      │            │           │           │\n",
              "(0, 5): ───X───────X────ZZ───────┼─────────────YY─────────┼───────────────XX─────────┼──────────────ZZ^-0.941───YY^-0.767───XX^-0.767────ZZ───────┼─────────────YY───────┼─────────────XX───────┼────────────ZZ^-0.98───YY^(-9/11)───XX^(-9/11)────ZZ───────┼─────────────YY───────┼─────────────XX───────┼────────────ZZ^-0.98───YY^(-9/11)───XX^(-9/11)────ZZ───────┼─────────────YY───────┼─────────────XX───────┼────────────ZZ^-0.985───YY^-0.901───XX^-0.901───\n",
              "                        │        │             │          │               │          │                                                   │        │             │        │             │        │                                                  │        │             │        │             │        │                                                  │        │             │        │             │        │\n",
              "(0, 6): ───X───H───@────ZZ^-0.977┼─────────────YY^(-10/11)┼───────────────XX^(-10/11)┼──────────────ZZ──────────YY──────────XX───────────ZZ^-0.968┼─────────────YY^-0.898┼─────────────XX^-0.898┼────────────ZZ─────────YY───────────XX────────────ZZ^-0.962┼─────────────YY^-0.869┼─────────────XX^-0.869┼────────────ZZ─────────YY───────────XX────────────ZZ^-0.954┼─────────────YY^-0.904┼─────────────XX^-0.904┼────────────ZZ──────────YY──────────XX──────────\n",
              "                   │             │                        │                          │              │           │           │                     │                      │                      │            │          │            │                      │                      │                      │            │          │            │                      │                      │                      │            │           │           │\n",
              "(0, 7): ───X───────X─────────────ZZ^-0.977────────────────YY^(-10/11)────────────────XX^(-10/11)────ZZ^-0.941───YY^-0.767───XX^-0.767─────────────ZZ^-0.968──────────────YY^-0.898──────────────XX^-0.898────ZZ^-0.98───YY^(-9/11)───XX^(-9/11)─────────────ZZ^-0.962──────────────YY^-0.869──────────────XX^-0.869────ZZ^-0.98───YY^(-9/11)───XX^(-9/11)─────────────ZZ^-0.954──────────────YY^-0.904──────────────XX^-0.904────ZZ^-0.985───YY^-0.901───XX^-0.901───\n",
              "                       └──────────────────┘   └──────────────────────┘   └──────────────────────┘                                       └──────────────────┘   └──────────────────┘   └──────────────────┘                                        └──────────────────┘   └──────────────────┘   └──────────────────┘                                        └──────────────────┘   └──────────────────┘   └──────────────────┘</pre>"
            ]
          },
          "metadata": {},
          "execution_count": 22
        }
      ],
      "source": [
        "qubits = cirq.GridQubit.rect(1, 8)\n",
        "circuits, labels, pauli_sums, _ = tfq.datasets.xxz_chain(qubits, 'closed')\n",
        "circuits[0]"
      ]
    },
    {
      "cell_type": "markdown",
      "metadata": {
        "id": "MFgNU_nBGeTm"
      },
      "source": [
        "Writing a small helper function will help to generate the data for the noisy vs noiseless case:"
      ]
    },
    {
      "cell_type": "code",
      "execution_count": 23,
      "metadata": {
        "id": "zkQofAqqGibQ"
      },
      "outputs": [],
      "source": [
        "def get_data(qubits, depolarize_p=0.):\n",
        "  \"\"\"Return quantum data circuits and labels in `tf.Tensor` form.\"\"\"\n",
        "  circuits, labels, pauli_sums, _ = tfq.datasets.xxz_chain(qubits, 'closed')\n",
        "  if depolarize_p >= 1e-5:\n",
        "    circuits = [circuit.with_noise(cirq.depolarize(depolarize_p)) for circuit in circuits]\n",
        "  tmp = list(zip(circuits, labels))\n",
        "  random.shuffle(tmp)\n",
        "  circuits_tensor = tfq.convert_to_tensor([x[0] for x in tmp])\n",
        "  labels_tensor = tf.convert_to_tensor([x[1] for x in tmp])\n",
        "\n",
        "  return circuits_tensor, labels_tensor"
      ]
    },
    {
      "cell_type": "markdown",
      "metadata": {
        "id": "FtJrfsLCF9Z3"
      },
      "source": [
        "### 3.2 Define a model circuit\n",
        "Now that you have quantum data in the form of circuits, you will need a circuit to model this data, like with the data you can write a helper function to generate this circuit optionally containing noise:"
      ]
    },
    {
      "cell_type": "code",
      "execution_count": 24,
      "metadata": {
        "id": "TwryFaFIG2Ya",
        "outputId": "f5f96a26-1866-46b2-c832-e027e6f049fb",
        "colab": {
          "base_uri": "https://localhost:8080/",
          "height": 277
        }
      },
      "outputs": [
        {
          "output_type": "execute_result",
          "data": {
            "text/plain": [
              "(0, 0): ───H───@───────X^(layer-0)───@───────Y^(layer-1)───@───────X^(layer-2)───\n",
              "               │                     │                     │\n",
              "(0, 1): ───H───X───@───X^(layer-0)───X───@───Y^(layer-1)───X───@───X^(layer-2)───\n",
              "                   │                     │                     │\n",
              "(0, 2): ───H───@───X───X^(layer-0)───@───X───Y^(layer-1)───@───X───X^(layer-2)───\n",
              "               │                     │                     │\n",
              "(0, 3): ───H───X───@───X^(layer-0)───X───@───Y^(layer-1)───X───@───X^(layer-2)───\n",
              "                   │                     │                     │\n",
              "(0, 4): ───H───@───X───X^(layer-0)───@───X───Y^(layer-1)───@───X───X^(layer-2)───\n",
              "               │                     │                     │\n",
              "(0, 5): ───H───X───@───X^(layer-0)───X───@───Y^(layer-1)───X───@───X^(layer-2)───\n",
              "                   │                     │                     │\n",
              "(0, 6): ───H───@───X───X^(layer-0)───@───X───Y^(layer-1)───@───X───X^(layer-2)───\n",
              "               │                     │                     │\n",
              "(0, 7): ───H───X───────X^(layer-0)───X───────Y^(layer-1)───X───────X^(layer-2)───"
            ],
            "text/html": [
              "<pre style=\"overflow: auto; white-space: pre;\">(0, 0): ───H───@───────X^(layer-0)───@───────Y^(layer-1)───@───────X^(layer-2)───\n",
              "               │                     │                     │\n",
              "(0, 1): ───H───X───@───X^(layer-0)───X───@───Y^(layer-1)───X───@───X^(layer-2)───\n",
              "                   │                     │                     │\n",
              "(0, 2): ───H───@───X───X^(layer-0)───@───X───Y^(layer-1)───@───X───X^(layer-2)───\n",
              "               │                     │                     │\n",
              "(0, 3): ───H───X───@───X^(layer-0)───X───@───Y^(layer-1)───X───@───X^(layer-2)───\n",
              "                   │                     │                     │\n",
              "(0, 4): ───H───@───X───X^(layer-0)───@───X───Y^(layer-1)───@───X───X^(layer-2)───\n",
              "               │                     │                     │\n",
              "(0, 5): ───H───X───@───X^(layer-0)───X───@───Y^(layer-1)───X───@───X^(layer-2)───\n",
              "                   │                     │                     │\n",
              "(0, 6): ───H───@───X───X^(layer-0)───@───X───Y^(layer-1)───@───X───X^(layer-2)───\n",
              "               │                     │                     │\n",
              "(0, 7): ───H───X───────X^(layer-0)───X───────Y^(layer-1)───X───────X^(layer-2)───</pre>"
            ]
          },
          "metadata": {},
          "execution_count": 24
        }
      ],
      "source": [
        "def modelling_circuit(qubits, depth, depolarize_p=0.):\n",
        "  \"\"\"A simple classifier circuit.\"\"\"\n",
        "  dim = len(qubits)\n",
        "  ret = cirq.Circuit(cirq.H.on_each(*qubits))\n",
        "\n",
        "  for i in range(depth):\n",
        "    # Entangle layer.\n",
        "    ret += cirq.Circuit(cirq.CX(q1, q2) for (q1, q2) in zip(qubits[::2], qubits[1::2]))\n",
        "    ret += cirq.Circuit(cirq.CX(q1, q2) for (q1, q2) in zip(qubits[1::2], qubits[2::2]))\n",
        "    # Learnable rotation layer.\n",
        "    # i_params = sympy.symbols(f'layer-{i}-0:{dim}')\n",
        "    param = sympy.Symbol(f'layer-{i}')\n",
        "    single_qb = cirq.X\n",
        "    if i % 2 == 1:\n",
        "      single_qb = cirq.Y\n",
        "    ret += cirq.Circuit(single_qb(q) ** param for q in qubits)\n",
        "\n",
        "  if depolarize_p >= 1e-5:\n",
        "    ret = ret.with_noise(cirq.depolarize(depolarize_p))\n",
        "\n",
        "  return ret, [op(q) for q in qubits for op in [cirq.X, cirq.Y, cirq.Z]]\n",
        "\n",
        "modelling_circuit(qubits, 3)[0]"
      ]
    },
    {
      "cell_type": "markdown",
      "metadata": {
        "id": "U-ZMaCpJI9TH"
      },
      "source": [
        "### 3.3 Model building and training\n",
        "With your data and model circuit built, the final helper function you will need is one that can assemble both a noisy or a noiseless hybrid quantum `tf.keras.Model`:"
      ]
    },
    {
      "cell_type": "code",
      "execution_count": 25,
      "metadata": {
        "id": "r09CT5N9DWa_"
      },
      "outputs": [],
      "source": [
        "def build_keras_model(qubits, depolarize_p=0.):\n",
        "  \"\"\"Prepare a noisy hybrid quantum classical Keras model.\"\"\"\n",
        "  spin_input = tf.keras.Input(shape=(), dtype=tf.dtypes.string)\n",
        "\n",
        "  circuit_and_readout = modelling_circuit(qubits, 4, depolarize_p)\n",
        "  if depolarize_p >= 1e-5:\n",
        "    quantum_model = tfq.layers.NoisyPQC(*circuit_and_readout, sample_based=False, repetitions=10)(spin_input)\n",
        "  else:\n",
        "    quantum_model = tfq.layers.PQC(*circuit_and_readout)(spin_input)\n",
        "\n",
        "  intermediate = tf.keras.layers.Dense(4, activation='sigmoid')(quantum_model)\n",
        "  post_process = tf.keras.layers.Dense(1)(intermediate)\n",
        "\n",
        "  return tf.keras.Model(inputs=[spin_input], outputs=[post_process])"
      ]
    },
    {
      "cell_type": "markdown",
      "metadata": {
        "id": "QbMtT7BZmhfm"
      },
      "source": [
        "## 4. Compare performance\n",
        "\n",
        "### 4.1 Noiseless baseline\n",
        "\n",
        "With your data generation and model building code, you can now compare and contrast model performance in the noiseless and noisy settings, first you can run a reference noiseless training:"
      ]
    },
    {
      "cell_type": "code",
      "execution_count": 26,
      "metadata": {
        "id": "QAgpq9c-EakW",
        "outputId": "6cf317b2-aa84-4dc2-9453-a798e41dd0a8",
        "colab": {
          "base_uri": "https://localhost:8080/",
          "height": 313
        }
      },
      "outputs": [
        {
          "output_type": "execute_result",
          "data": {
            "image/png": "[encoded data removed]",
            "text/plain": [
              "<IPython.core.display.Image object>"
            ]
          },
          "metadata": {},
          "execution_count": 26
        }
      ],
      "source": [
        "training_histories = dict()\n",
        "depolarize_p = 0.\n",
        "n_epochs = 50\n",
        "phase_classifier = build_keras_model(qubits, depolarize_p)\n",
        "\n",
        "phase_classifier.compile(optimizer=tf.keras.optimizers.Adam(learning_rate=0.02),\n",
        "                   loss=tf.keras.losses.BinaryCrossentropy(from_logits=True),\n",
        "                   metrics=['accuracy'])\n",
        "\n",
        "\n",
        "# Show the keras plot of the model\n",
        "tf.keras.utils.plot_model(phase_classifier, show_shapes=True, dpi=70)"
      ]
    },
    {
      "cell_type": "code",
      "execution_count": 27,
      "metadata": {
        "id": "9tKimWRMlVfL",
        "outputId": "89b440b6-11de-43f7-d898-0f0353856eb1",
        "colab": {
          "base_uri": "https://localhost:8080/"
        }
      },
      "outputs": [
        {
          "output_type": "stream",
          "name": "stdout",
          "text": [
            "Epoch 1/50\n",
            "4/4 [==============================] - 4s 308ms/step - loss: 0.7060 - accuracy: 0.6094 - val_loss: 0.6227 - val_accuracy: 0.3333\n",
            "Epoch 2/50\n",
            "4/4 [==============================] - 1s 137ms/step - loss: 0.6686 - accuracy: 0.5000 - val_loss: 0.6274 - val_accuracy: 0.3333\n",
            "Epoch 3/50\n",
            "4/4 [==============================] - 0s 124ms/step - loss: 0.6547 - accuracy: 0.5000 - val_loss: 0.6339 - val_accuracy: 0.3333\n",
            "Epoch 4/50\n",
            "4/4 [==============================] - 0s 129ms/step - loss: 0.6403 - accuracy: 0.5000 - val_loss: 0.6297 - val_accuracy: 0.3333\n",
            "Epoch 5/50\n",
            "4/4 [==============================] - 0s 128ms/step - loss: 0.6274 - accuracy: 0.5000 - val_loss: 0.6102 - val_accuracy: 0.3333\n",
            "Epoch 6/50\n",
            "4/4 [==============================] - 0s 133ms/step - loss: 0.6126 - accuracy: 0.5000 - val_loss: 0.5888 - val_accuracy: 0.3333\n",
            "Epoch 7/50\n",
            "4/4 [==============================] - 0s 120ms/step - loss: 0.5984 - accuracy: 0.5000 - val_loss: 0.5595 - val_accuracy: 0.4167\n",
            "Epoch 8/50\n",
            "4/4 [==============================] - 0s 134ms/step - loss: 0.5790 - accuracy: 0.5625 - val_loss: 0.5356 - val_accuracy: 0.7500\n",
            "Epoch 9/50\n",
            "4/4 [==============================] - 0s 127ms/step - loss: 0.5613 - accuracy: 0.6406 - val_loss: 0.5101 - val_accuracy: 0.8333\n",
            "Epoch 10/50\n",
            "4/4 [==============================] - 0s 129ms/step - loss: 0.5417 - accuracy: 0.7188 - val_loss: 0.4871 - val_accuracy: 0.8333\n",
            "Epoch 11/50\n",
            "4/4 [==============================] - 1s 137ms/step - loss: 0.5230 - accuracy: 0.7656 - val_loss: 0.4623 - val_accuracy: 0.9167\n",
            "Epoch 12/50\n",
            "4/4 [==============================] - 0s 126ms/step - loss: 0.5011 - accuracy: 0.7969 - val_loss: 0.4406 - val_accuracy: 0.9167\n",
            "Epoch 13/50\n",
            "4/4 [==============================] - 1s 133ms/step - loss: 0.4800 - accuracy: 0.7969 - val_loss: 0.4206 - val_accuracy: 0.9167\n",
            "Epoch 14/50\n",
            "4/4 [==============================] - 1s 241ms/step - loss: 0.4587 - accuracy: 0.8125 - val_loss: 0.4003 - val_accuracy: 0.9167\n",
            "Epoch 15/50\n",
            "4/4 [==============================] - 1s 206ms/step - loss: 0.4364 - accuracy: 0.8438 - val_loss: 0.3770 - val_accuracy: 0.9167\n",
            "Epoch 16/50\n",
            "4/4 [==============================] - 1s 223ms/step - loss: 0.4161 - accuracy: 0.8438 - val_loss: 0.3561 - val_accuracy: 0.9167\n",
            "Epoch 17/50\n",
            "4/4 [==============================] - 1s 212ms/step - loss: 0.3940 - accuracy: 0.8594 - val_loss: 0.3337 - val_accuracy: 0.9167\n",
            "Epoch 18/50\n",
            "4/4 [==============================] - 1s 132ms/step - loss: 0.3734 - accuracy: 0.8906 - val_loss: 0.3136 - val_accuracy: 0.9167\n",
            "Epoch 19/50\n",
            "4/4 [==============================] - 0s 128ms/step - loss: 0.3540 - accuracy: 0.9062 - val_loss: 0.2953 - val_accuracy: 0.9167\n",
            "Epoch 20/50\n",
            "4/4 [==============================] - 0s 129ms/step - loss: 0.3352 - accuracy: 0.9219 - val_loss: 0.2788 - val_accuracy: 0.9167\n",
            "Epoch 21/50\n",
            "4/4 [==============================] - 0s 130ms/step - loss: 0.3174 - accuracy: 0.9375 - val_loss: 0.2639 - val_accuracy: 0.9167\n",
            "Epoch 22/50\n",
            "4/4 [==============================] - 0s 120ms/step - loss: 0.3025 - accuracy: 0.9219 - val_loss: 0.2507 - val_accuracy: 0.9167\n",
            "Epoch 23/50\n",
            "4/4 [==============================] - 0s 130ms/step - loss: 0.2860 - accuracy: 0.9375 - val_loss: 0.2380 - val_accuracy: 0.9167\n",
            "Epoch 24/50\n",
            "4/4 [==============================] - 0s 133ms/step - loss: 0.2715 - accuracy: 0.9375 - val_loss: 0.2263 - val_accuracy: 0.9167\n",
            "Epoch 25/50\n",
            "4/4 [==============================] - 1s 130ms/step - loss: 0.2579 - accuracy: 0.9375 - val_loss: 0.2158 - val_accuracy: 0.9167\n",
            "Epoch 26/50\n",
            "4/4 [==============================] - 1s 134ms/step - loss: 0.2462 - accuracy: 0.9531 - val_loss: 0.2068 - val_accuracy: 0.9167\n",
            "Epoch 27/50\n",
            "4/4 [==============================] - 0s 128ms/step - loss: 0.2338 - accuracy: 0.9531 - val_loss: 0.1983 - val_accuracy: 0.9167\n",
            "Epoch 28/50\n",
            "4/4 [==============================] - 0s 131ms/step - loss: 0.2263 - accuracy: 0.9531 - val_loss: 0.1905 - val_accuracy: 0.9167\n",
            "Epoch 29/50\n",
            "4/4 [==============================] - 0s 130ms/step - loss: 0.2143 - accuracy: 0.9531 - val_loss: 0.1853 - val_accuracy: 0.9167\n",
            "Epoch 30/50\n",
            "4/4 [==============================] - 0s 128ms/step - loss: 0.2074 - accuracy: 0.9531 - val_loss: 0.1778 - val_accuracy: 0.9167\n",
            "Epoch 31/50\n",
            "4/4 [==============================] - 1s 141ms/step - loss: 0.1971 - accuracy: 0.9531 - val_loss: 0.1718 - val_accuracy: 0.9167\n",
            "Epoch 32/50\n",
            "4/4 [==============================] - 0s 124ms/step - loss: 0.1906 - accuracy: 0.9531 - val_loss: 0.1670 - val_accuracy: 0.9167\n",
            "Epoch 33/50\n",
            "4/4 [==============================] - 0s 130ms/step - loss: 0.1849 - accuracy: 0.9688 - val_loss: 0.1628 - val_accuracy: 0.9167\n",
            "Epoch 34/50\n",
            "4/4 [==============================] - 1s 129ms/step - loss: 0.1759 - accuracy: 0.9688 - val_loss: 0.1573 - val_accuracy: 0.9167\n",
            "Epoch 35/50\n",
            "4/4 [==============================] - 0s 135ms/step - loss: 0.1699 - accuracy: 0.9688 - val_loss: 0.1539 - val_accuracy: 0.9167\n",
            "Epoch 36/50\n",
            "4/4 [==============================] - 0s 132ms/step - loss: 0.1648 - accuracy: 0.9688 - val_loss: 0.1500 - val_accuracy: 0.9167\n",
            "Epoch 37/50\n",
            "4/4 [==============================] - 1s 158ms/step - loss: 0.1581 - accuracy: 0.9688 - val_loss: 0.1461 - val_accuracy: 0.9167\n",
            "Epoch 38/50\n",
            "4/4 [==============================] - 1s 260ms/step - loss: 0.1536 - accuracy: 0.9688 - val_loss: 0.1431 - val_accuracy: 0.9167\n",
            "Epoch 39/50\n",
            "4/4 [==============================] - 1s 218ms/step - loss: 0.1492 - accuracy: 0.9688 - val_loss: 0.1401 - val_accuracy: 0.9167\n",
            "Epoch 40/50\n",
            "4/4 [==============================] - 1s 199ms/step - loss: 0.1446 - accuracy: 0.9688 - val_loss: 0.1370 - val_accuracy: 0.9167\n",
            "Epoch 41/50\n",
            "4/4 [==============================] - 1s 233ms/step - loss: 0.1404 - accuracy: 0.9688 - val_loss: 0.1345 - val_accuracy: 0.9167\n",
            "Epoch 42/50\n",
            "4/4 [==============================] - 1s 129ms/step - loss: 0.1361 - accuracy: 0.9688 - val_loss: 0.1321 - val_accuracy: 0.9167\n",
            "Epoch 43/50\n",
            "4/4 [==============================] - 1s 136ms/step - loss: 0.1325 - accuracy: 0.9844 - val_loss: 0.1297 - val_accuracy: 0.9167\n",
            "Epoch 44/50\n",
            "4/4 [==============================] - 1s 137ms/step - loss: 0.1301 - accuracy: 0.9844 - val_loss: 0.1277 - val_accuracy: 0.9167\n",
            "Epoch 45/50\n",
            "4/4 [==============================] - 0s 123ms/step - loss: 0.1260 - accuracy: 0.9844 - val_loss: 0.1256 - val_accuracy: 0.9167\n",
            "Epoch 46/50\n",
            "4/4 [==============================] - 0s 123ms/step - loss: 0.1229 - accuracy: 0.9844 - val_loss: 0.1236 - val_accuracy: 0.9167\n",
            "Epoch 47/50\n",
            "4/4 [==============================] - 1s 136ms/step - loss: 0.1199 - accuracy: 0.9844 - val_loss: 0.1218 - val_accuracy: 0.9167\n",
            "Epoch 48/50\n",
            "4/4 [==============================] - 0s 132ms/step - loss: 0.1171 - accuracy: 0.9844 - val_loss: 0.1201 - val_accuracy: 0.9167\n",
            "Epoch 49/50\n",
            "4/4 [==============================] - 0s 120ms/step - loss: 0.1153 - accuracy: 0.9844 - val_loss: 0.1186 - val_accuracy: 0.9167\n",
            "Epoch 50/50\n",
            "4/4 [==============================] - 0s 116ms/step - loss: 0.1122 - accuracy: 0.9688 - val_loss: 0.1169 - val_accuracy: 0.9167\n"
          ]
        }
      ],
      "source": [
        "noiseless_data, noiseless_labels = get_data(qubits, depolarize_p)\n",
        "training_histories['noiseless'] = phase_classifier.fit(x=noiseless_data,\n",
        "                         y=noiseless_labels,\n",
        "                         batch_size=16,\n",
        "                         epochs=n_epochs,\n",
        "                         validation_split=0.15,\n",
        "                         verbose=1)"
      ]
    },
    {
      "cell_type": "markdown",
      "metadata": {
        "id": "A9oql6Synv3f"
      },
      "source": [
        "And explore the results and accuracy:"
      ]
    },
    {
      "cell_type": "code",
      "execution_count": 33,
      "metadata": {
        "id": "TG87YNUWKKLY",
        "outputId": "68757ca5-f4f1-4144-8ab4-7786a2d8a867",
        "colab": {
          "base_uri": "https://localhost:8080/",
          "height": 454
        }
      },
      "outputs": [
        {
          "output_type": "display_data",
          "data": {
            "text/plain": [
              "<Figure size 640x480 with 1 Axes>"
            ],
            "image/png": "[encoded data removed]"
          },
          "metadata": {}
        }
      ],
      "source": [
        "loss_plotter = tfdocs.plots.HistoryPlotter(metric = 'loss', smoothing_std=10)\n",
        "loss_plotter.plot(training_histories)"
      ]
    },
    {
      "cell_type": "code",
      "execution_count": 34,
      "metadata": {
        "id": "O2ZwM18YUxxm",
        "outputId": "e113051a-d3ed-48a8-bcd2-cd9259f98217",
        "colab": {
          "base_uri": "https://localhost:8080/",
          "height": 449
        }
      },
      "outputs": [
        {
          "output_type": "display_data",
          "data": {
            "text/plain": [
              "<Figure size 640x480 with 1 Axes>"
            ],
            "image/png": "[encoded data removed]"
          },
          "metadata": {}
        }
      ],
      "source": [
        "acc_plotter = tfdocs.plots.HistoryPlotter(metric = 'accuracy', smoothing_std=10)\n",
        "acc_plotter.plot(training_histories)"
      ]
    },
    {
      "cell_type": "markdown",
      "metadata": {
        "id": "JlOwBxvSnzid"
      },
      "source": [
        "### 4.2 Noisy comparison\n",
        "Now you can build a new model with noisy structure and compare to the above, the code is nearly identical:"
      ]
    },
    {
      "cell_type": "code",
      "execution_count": 35,
      "metadata": {
        "id": "0jy54uWpgwhi",
        "outputId": "30a4d21e-fd40-4a99-a8be-27e9eb3e3845",
        "colab": {
          "base_uri": "https://localhost:8080/",
          "height": 313
        }
      },
      "outputs": [
        {
          "output_type": "execute_result",
          "data": {
            "image/png": "[encoded data removed]",
            "text/plain": [
              "<IPython.core.display.Image object>"
            ]
          },
          "metadata": {},
          "execution_count": 35
        }
      ],
      "source": [
        "depolarize_p = 0.001\n",
        "n_epochs = 50\n",
        "noisy_phase_classifier = build_keras_model(qubits, depolarize_p)\n",
        "\n",
        "noisy_phase_classifier.compile(optimizer=tf.keras.optimizers.Adam(learning_rate=0.02),\n",
        "                   loss=tf.keras.losses.BinaryCrossentropy(from_logits=True),\n",
        "                   metrics=['accuracy'])\n",
        "\n",
        "\n",
        "# Show the keras plot of the model\n",
        "tf.keras.utils.plot_model(noisy_phase_classifier, show_shapes=True, dpi=70)"
      ]
    },
    {
      "cell_type": "markdown",
      "metadata": {
        "id": "r-vYU6S3oN-J"
      },
      "source": [
        "Note: in the model diagram there is now a `tfq.layers.NoisyPQC` instead of a `tfq.layers.PQC` since the depolarization probability is no longer zero. Training will take significantly longer since noisy simulation is far more expensive than noiseless."
      ]
    },
    {
      "cell_type": "code",
      "execution_count": null,
      "metadata": {
        "id": "210cLP5AoClJ",
        "outputId": "f5b747ae-2a38-40cb-b028-f898ba65c89b",
        "colab": {
          "base_uri": "https://localhost:8080/"
        }
      },
      "outputs": [
        {
          "output_type": "stream",
          "name": "stdout",
          "text": [
            "Epoch 1/50\n",
            "4/4 [==============================] - 63s 14s/step - loss: 0.7763 - accuracy: 0.5156 - val_loss: 0.9372 - val_accuracy: 0.2500\n",
            "Epoch 2/50\n",
            "4/4 [==============================] - 54s 14s/step - loss: 0.7177 - accuracy: 0.5156 - val_loss: 0.8181 - val_accuracy: 0.2500\n",
            "Epoch 3/50\n",
            "4/4 [==============================] - 54s 14s/step - loss: 0.6848 - accuracy: 0.5156 - val_loss: 0.7312 - val_accuracy: 0.2500\n",
            "Epoch 4/50\n",
            "4/4 [==============================] - 56s 14s/step - loss: 0.6699 - accuracy: 0.5156 - val_loss: 0.6844 - val_accuracy: 0.2500\n",
            "Epoch 5/50\n",
            "4/4 [==============================] - 55s 14s/step - loss: 0.6649 - accuracy: 0.5156 - val_loss: 0.6480 - val_accuracy: 0.2500\n",
            "Epoch 6/50\n",
            "4/4 [==============================] - 54s 14s/step - loss: 0.6596 - accuracy: 0.5156 - val_loss: 0.6329 - val_accuracy: 0.2500\n",
            "Epoch 7/50\n",
            "4/4 [==============================] - 55s 14s/step - loss: 0.6570 - accuracy: 0.5156 - val_loss: 0.6355 - val_accuracy: 0.2500\n",
            "Epoch 8/50\n",
            "4/4 [==============================] - 54s 14s/step - loss: 0.6484 - accuracy: 0.5156 - val_loss: 0.6341 - val_accuracy: 0.2500\n",
            "Epoch 9/50\n",
            "4/4 [==============================] - 57s 14s/step - loss: 0.6385 - accuracy: 0.5156 - val_loss: 0.6445 - val_accuracy: 0.2500\n",
            "Epoch 10/50\n",
            "1/4 [======>.......................] - ETA: 39s - loss: 0.6301 - accuracy: 0.6875"
          ]
        }
      ],
      "source": [
        "noisy_data, noisy_labels = get_data(qubits, depolarize_p)\n",
        "training_histories['noisy'] = noisy_phase_classifier.fit(x=noisy_data,\n",
        "                         y=noisy_labels,\n",
        "                         batch_size=16,\n",
        "                         epochs=n_epochs,\n",
        "                         validation_split=0.15,\n",
        "                         verbose=1)"
      ]
    },
    {
      "cell_type": "code",
      "execution_count": null,
      "metadata": {
        "id": "eQ8pknNdohzy"
      },
      "outputs": [],
      "source": [
        "loss_plotter.plot(training_histories)"
      ]
    },
    {
      "cell_type": "code",
      "execution_count": null,
      "metadata": {
        "id": "nBtgnKWtuWRR"
      },
      "outputs": [],
      "source": [
        "acc_plotter.plot(training_histories)"
      ]
    },
    {
      "cell_type": "markdown",
      "metadata": {
        "id": "r86TeFxlubls"
      },
      "source": [
        "Success: The noisy model still managed to train under some mild depolarization noise. Try experimenting with different noise models to see how and when training might fail. Also look out for noisy functionality under `tfq.layers` and `tfq.noise`."
      ]
    }
  ],
  "metadata": {
    "colab": {
      "name": "noise.ipynb",
      "provenance": [],
      "gpuType": "T4",
      "include_colab_link": true
    },
    "kernelspec": {
      "display_name": "Python 3",
      "name": "python3"
    },
    "language_info": {
      "codemirror_mode": {
        "name": "ipython",
        "version": 3
      },
      "file_extension": ".py",
      "mimetype": "text/x-python",
      "name": "python",
      "nbconvert_exporter": "python",
      "pygments_lexer": "ipython3",
      "version": "3.8.8"
    },
    "accelerator": "GPU"
  },
  "nbformat": 4,
  "nbformat_minor": 0
}